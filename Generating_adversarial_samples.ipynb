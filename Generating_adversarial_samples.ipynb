{
 "cells": [
  {
   "cell_type": "code",
   "execution_count": 1,
   "metadata": {},
   "outputs": [],
   "source": [
    "## TASK2 GENERATING ADVERSARIAL SAMPLES"
   ]
  },
  {
   "cell_type": "code",
   "execution_count": 1,
   "metadata": {},
   "outputs": [],
   "source": [
    "from sklearn.linear_model import LogisticRegression\n",
    "import numpy as np\n",
    "import pandas as pd\n",
    "import matplotlib.pyplot as plt\n",
    "from sklearn.preprocessing import StandardScaler\n",
    "from sklearn.decomposition import PCA"
   ]
  },
  {
   "cell_type": "code",
   "execution_count": 2,
   "metadata": {},
   "outputs": [
    {
     "name": "stdout",
     "output_type": "stream",
     "text": [
      "DONE\n"
     ]
    }
   ],
   "source": [
    "headers = ['timestamp','duration','protocol', 'src_ip', 'src_port', 'direction', 'dst_ip' , 'dst_port'\n",
    "           ,'state', 'src_type', 'dst_type' , 'total_packets', 'bytes_bothdir', 'bytes_onedir', 'label']\n",
    "\n",
    "df_train_original = pd.read_csv(\"training_data_with_labels.csv\", names=headers, header=None).sample(frac=0.05, replace=False, random_state=42).fillna(-1)\n",
    "#df_val_notsampled = pd.read_csv(\"A2_2/valid_data_with_labels.csv\", names=val_headers, header=None).fillna(-1)\n",
    "df_test_original = pd.read_csv(\"test_data_with_labels.csv\", names=headers, header=None).fillna(-1)\n",
    "\n",
    "print('DONE')"
   ]
  },
  {
   "cell_type": "code",
   "execution_count": 3,
   "metadata": {},
   "outputs": [
    {
     "name": "stdout",
     "output_type": "stream",
     "text": [
      "98908\n"
     ]
    }
   ],
   "source": [
    "print(len(df_train_original))"
   ]
  },
  {
   "cell_type": "code",
   "execution_count": 4,
   "metadata": {},
   "outputs": [],
   "source": [
    "train_headers = ['timestamp','duration','protocol', 'src_ip', 'src_port', 'direction', 'dst_ip' , 'dst_port'\n",
    "           ,'state', 'src_type', 'dst_type' , 'total_packets', 'bytes_bothdir', 'bytes_onedir']\n",
    "\n",
    "df_train_original['label']= df_train_original['label'].apply(str)\n",
    "df_train_original.loc[df_train_original['label'].str.contains(\"From-Botnet\"), 'label'] = -1\n",
    "df_train_original.loc[df_train_original['label'].str.contains(\"From-Botnet\")== False, 'label'] = 1\n",
    "df_train_original.label = df_train_original.label.astype(int)\n",
    "\n",
    "df_test_original['label']= df_test_original['label'].apply(str)\n",
    "df_test_original.loc[df_test_original['label'].str.contains(\"From-Botnet\"), 'label'] = -1\n",
    "df_test_original.loc[df_test_original['label'].str.contains(\"From-Botnet\")== False, 'label'] = 1\n",
    "df_test_original.label = df_test_original.label.astype(int)\n"
   ]
  },
  {
   "cell_type": "code",
   "execution_count": 27,
   "metadata": {},
   "outputs": [
    {
     "name": "stdout",
     "output_type": "stream",
     "text": [
      "98908\n",
      "574383\n"
     ]
    }
   ],
   "source": [
    "#X_train = df_train_sampled\n",
    "X_train_ori = df_train_original\n",
    "X_test_ori = df_test_original\n",
    "print(len(X_train_ori))\n",
    "print(len(X_test_ori))"
   ]
  },
  {
   "cell_type": "code",
   "execution_count": 6,
   "metadata": {},
   "outputs": [],
   "source": [
    "## Preprocessing for calculation, and preparing for onehot \n",
    "def convert_to_str(df):\n",
    "    convert_to_str_list = ['src_port', 'dst_port']\n",
    "    for column in convert_to_str_list: \n",
    "        df[column]= df[column].apply(str)\n",
    "\n",
    "    df_obj = df.select_dtypes(['object'])\n",
    "    df[df_obj.columns] = df_obj.apply(lambda x: x.str.strip())\n",
    "    \n",
    "def apply_stat(df):\n",
    "    df['pps'] = df['total_packets']/ df['duration']\n",
    "    df['bps_onedir'] = df['bytes_onedir']/ df['total_packets']\n",
    "    df['bpp_onedir'] = df['bytes_onedir']/ df['duration']\n",
    "    df['bps_bothdir'] = df['bytes_bothdir']/ df['total_packets']\n",
    "    df['bpp_bothdir'] = df['bytes_bothdir']/ df['duration']  \n",
    "    \n",
    "def preprocess(flag, df_original):\n",
    "    groupby_columns = ['src_ip', 'dst_ip', 'src_port', 'dst_port', 'protocol']\n",
    "    df_original[\"stream_id\"] = df_original.groupby(groupby_columns).grouper.group_info[0]\n",
    "    df_original = df_original.sort_values(by=['stream_id','timestamp'])\n",
    "    df_original['timestamp']=df_original['timestamp'].apply(pd.to_datetime)\n",
    "    #df['endtime'] = df['timestamp'] + pd.to_timedelta(df['duration'], unit='s')\n",
    "    df_original.loc[df_original['duration']==0, 'duration'] = 0.000001\n",
    "    #apply_addinfo(df)    \n",
    "    convert_to_str(df_original)    \n",
    "    stream_id_grouped = df_original.groupby(['stream_id'])    \n",
    "    stream_id = stream_id_grouped.grouper.group_info[0]\n",
    "    stream_id = set(stream_id)\n",
    "    newdf = pd.DataFrame(stream_id, columns=['stream_id'])\n",
    "    newdf['src_ip'] = stream_id_grouped['src_ip'].first()\n",
    "    newdf['dst_ip'] = stream_id_grouped['dst_ip'].first()\n",
    "    newdf['src_port'] = stream_id_grouped['src_port'].first()\n",
    "    newdf['dst_port'] = stream_id_grouped['dst_port'].first()\n",
    "    newdf['protocol'] = stream_id_grouped['protocol'].first()\n",
    "    \n",
    "    if flag == 'val':\n",
    "        newdf['label'] = stream_id_grouped['label'].mean()\n",
    "\n",
    "    return newdf, df_original"
   ]
  },
  {
   "cell_type": "code",
   "execution_count": 7,
   "metadata": {},
   "outputs": [
    {
     "name": "stdout",
     "output_type": "stream",
     "text": [
      "Wall time: 0 ns\n"
     ]
    }
   ],
   "source": [
    "%%time\n",
    "## FOR FEATURE3: average cumulative features\n",
    "\n",
    "src_time_diff_dict = {}\n",
    "src_cnt_dict = {}\n",
    "dst_time_diff_dict = {}\n",
    "dst_cnt_dict = {}\n",
    "srcdst_time_diff_dict = {}\n",
    "srcdst_cnt_dict = {}\n",
    "\n",
    "def get_time_diff(df_original):\n",
    "\n",
    "    df_original['src_time_diff']= df_original.groupby('src_ip')['timestamp'].apply(lambda s: s.diff().dt.seconds < 60)\n",
    "    df_original['dst_time_diff']= df_original.groupby('dst_ip')['timestamp'].apply(lambda s: s.diff().dt.seconds < 60)\n",
    "    df_original['srcdst_time_diff']= df_original.groupby(['src_ip', 'dst_port'])['timestamp'].apply(lambda s: s.diff().dt.seconds < 30) \n",
    "    \n",
    "def groupby_sum(df, df_original):\n",
    "    fields = ['bytes_bothdir','bytes_onedir', 'total_packets', 'duration']\n",
    "\n",
    "    for field in fields:\n",
    "        df[field] = df_original.groupby(['stream_id'])[field].sum()\n",
    "    \n",
    "    return df\n",
    "\n",
    "def apply_avg(df, df_original):\n",
    "    df['pps'] = df['total_packets']/df['duration']\n",
    "    df['bps_onedir'] = df['bytes_onedir']/ df['total_packets']\n",
    "    df['bpp_onedir'] = df['bytes_onedir']/ df['duration']\n",
    "    df['bps_bothdir'] = df['bytes_bothdir']/ df['total_packets']\n",
    "    df['bpp_bothdir'] = df['bytes_bothdir']/ df['duration']    \n",
    "    return df\n",
    "\n",
    "def cnt_timed_src(df, df_original):  \n",
    "    src_time_diff_dict = df_original.groupby('src_ip')['src_time_diff'].sum().to_dict()\n",
    "    #dst_cnt_dict = df_original.groupby('src_ip')['dst_ip'].count().to_dict()\n",
    "\n",
    "    df['cnt_timed_src']=df.apply(lambda x: src_time_diff_dict[x.src_ip], axis=1)\n",
    "    #df['cnt_dst']=df.apply(lambda x: dst_cnt_dict[x.src_ip], axis=1)\n",
    "    return df\n",
    "\n",
    "def cnt_timed_dst(df, df_original ):\n",
    "    dst_time_diff_dict = df_original.groupby('dst_ip')['dst_time_diff'].sum().to_dict()\n",
    "    #src_cnt_dict = df_original.groupby('dst_ip')['src_ip'].count().to_dict()\n",
    "    df['cnt_timed_dst']=df.apply(lambda x: dst_time_diff_dict[x.dst_ip], axis=1)\n",
    "    #df['cnt_src']=df.apply(lambda x: src_cnt_dict[x.dst_ip], axis=1)\n",
    "    return df\n",
    "\n",
    "def get_dict(dictionary):\n",
    "    newdict={}\n",
    "    for (k1, k2), count in dictionary.items():\n",
    "        if k1 in newdict:\n",
    "            if count>0:\n",
    "                newdict[k1] +=1\n",
    "        else:\n",
    "            newdict[k1] = 0\n",
    "    return newdict\n",
    "    \n",
    "def cnt_timed_srcdst(df, df_original):    \n",
    "    srcdst_time_diff_dict = df_original.groupby(['src_ip', 'dst_port' ])['srcdst_time_diff'].sum().to_dict() \n",
    "    srcdst_time_diff_dict = get_dict(srcdst_time_diff_dict)\n",
    "    #srcdst_cnt_dict = df_original.groupby(['src_ip', 'dst_port'])['src_ip'].count().to_dict()\n",
    "    #srcdst_cnt_dict = get_dict(srcdst_cnt_dict)\n",
    "    df['cnt_timed_srcdst']=df.apply(lambda x: srcdst_time_diff_dict[x.src_ip], axis=1)\n",
    "    #df['cnt_srcdst']=df.apply(lambda x: srcdst_cnt_dict[x.src_ip], axis=1)\n",
    "    return df"
   ]
  },
  {
   "cell_type": "code",
   "execution_count": 8,
   "metadata": {},
   "outputs": [],
   "source": [
    "scaler = StandardScaler()\n",
    "\n",
    "def apply_scaler(df):\n",
    "    df_columns_to_scale = df[columns_to_scale]\n",
    "    train_scaled_features  = scaler.fit_transform(df_columns_to_scale) \n",
    "    train_scaled_features_df = pd.DataFrame( train_scaled_features, index=df_columns_to_scale.index, columns=columns_to_scale)\n",
    "\n",
    "    return train_scaled_features_df\n",
    "\n",
    "def get_pc(X, num_components=2, tsne=False):\n",
    "\n",
    "    if tsne:\n",
    "        reduced_data = TSNE(n_components=num_components).fit_transform(X)\n",
    "    else:\n",
    "        pca = PCA(n_components=num_components, random_state=42).fit(X)\n",
    "        print(\"PCA.explained variance_ratio_ :\",sum(pca.explained_variance_ratio_) )\n",
    "        reduced_data = pca.transform(X)\n",
    "    \n",
    "    return reduced_data\n"
   ]
  },
  {
   "cell_type": "code",
   "execution_count": 9,
   "metadata": {},
   "outputs": [
    {
     "name": "stdout",
     "output_type": "stream",
     "text": [
      "Wall time: 0 ns\n"
     ]
    }
   ],
   "source": [
    "%%time\n",
    "\n",
    "## cumulative featrues mostly by grouped by [src_ip, dst_ip, src_port, dst_port, protocol]\n",
    "def get_feature3(flag, df_original):           \n",
    "\n",
    "    df, df_original = preprocess(flag, df_original)\n",
    "    df[['starttime', 'endtime']] = df_original.groupby(['stream_id']).agg(starttime=('timestamp', 'min'), endtime=('timestamp', 'max'))    \n",
    "    df = groupby_sum(df, df_original)    \n",
    "    df = apply_avg(df, df_original)  \n",
    "    get_time_diff(df_original)\n",
    "    df = cnt_timed_src(df, df_original)\n",
    "    df = cnt_timed_dst(df, df_original)\n",
    "    df = cnt_timed_srcdst(df, df_original)   \n",
    "    print(flag , 'DONE')\n",
    "    \n",
    "    return df\n"
   ]
  },
  {
   "cell_type": "code",
   "execution_count": null,
   "metadata": {},
   "outputs": [],
   "source": []
  },
  {
   "cell_type": "code",
   "execution_count": 24,
   "metadata": {},
   "outputs": [
    {
     "data": {
      "text/html": [
       "<div>\n",
       "<style scoped>\n",
       "    .dataframe tbody tr th:only-of-type {\n",
       "        vertical-align: middle;\n",
       "    }\n",
       "\n",
       "    .dataframe tbody tr th {\n",
       "        vertical-align: top;\n",
       "    }\n",
       "\n",
       "    .dataframe thead th {\n",
       "        text-align: right;\n",
       "    }\n",
       "</style>\n",
       "<table border=\"1\" class=\"dataframe\">\n",
       "  <thead>\n",
       "    <tr style=\"text-align: right;\">\n",
       "      <th></th>\n",
       "      <th>bytes_bothdir</th>\n",
       "      <th>bytes_onedir</th>\n",
       "      <th>total_packets</th>\n",
       "      <th>duration</th>\n",
       "      <th>pps</th>\n",
       "      <th>bps_onedir</th>\n",
       "      <th>bpp_onedir</th>\n",
       "      <th>bps_bothdir</th>\n",
       "      <th>bpp_bothdir</th>\n",
       "      <th>cnt_timed_src</th>\n",
       "      <th>cnt_timed_dst</th>\n",
       "      <th>cnt_timed_srcdst</th>\n",
       "    </tr>\n",
       "  </thead>\n",
       "  <tbody>\n",
       "    <tr>\n",
       "      <th>0</th>\n",
       "      <td>-0.03916</td>\n",
       "      <td>-0.026629</td>\n",
       "      <td>-0.041634</td>\n",
       "      <td>-0.211271</td>\n",
       "      <td>0.657007</td>\n",
       "      <td>-0.424921</td>\n",
       "      <td>0.381812</td>\n",
       "      <td>-0.636037</td>\n",
       "      <td>1.063197</td>\n",
       "      <td>-0.880234</td>\n",
       "      <td>-1.004642</td>\n",
       "      <td>-1.677192</td>\n",
       "    </tr>\n",
       "    <tr>\n",
       "      <th>1</th>\n",
       "      <td>-0.03916</td>\n",
       "      <td>-0.026629</td>\n",
       "      <td>-0.041634</td>\n",
       "      <td>-0.211271</td>\n",
       "      <td>-0.275575</td>\n",
       "      <td>-0.424921</td>\n",
       "      <td>-0.297139</td>\n",
       "      <td>-0.636037</td>\n",
       "      <td>-0.301503</td>\n",
       "      <td>-0.880234</td>\n",
       "      <td>-1.004642</td>\n",
       "      <td>-1.677192</td>\n",
       "    </tr>\n",
       "    <tr>\n",
       "      <th>2</th>\n",
       "      <td>-0.03916</td>\n",
       "      <td>-0.026629</td>\n",
       "      <td>-0.041634</td>\n",
       "      <td>-0.211271</td>\n",
       "      <td>-0.264796</td>\n",
       "      <td>-0.424921</td>\n",
       "      <td>-0.289291</td>\n",
       "      <td>-0.636037</td>\n",
       "      <td>-0.285729</td>\n",
       "      <td>-0.880234</td>\n",
       "      <td>-1.004642</td>\n",
       "      <td>-1.677192</td>\n",
       "    </tr>\n",
       "    <tr>\n",
       "      <th>3</th>\n",
       "      <td>-0.03916</td>\n",
       "      <td>-0.026629</td>\n",
       "      <td>-0.041634</td>\n",
       "      <td>-0.211271</td>\n",
       "      <td>-0.269122</td>\n",
       "      <td>-0.424921</td>\n",
       "      <td>-0.292441</td>\n",
       "      <td>-0.636037</td>\n",
       "      <td>-0.292060</td>\n",
       "      <td>-0.880234</td>\n",
       "      <td>-1.004642</td>\n",
       "      <td>-1.677192</td>\n",
       "    </tr>\n",
       "    <tr>\n",
       "      <th>4</th>\n",
       "      <td>-0.03916</td>\n",
       "      <td>-0.026629</td>\n",
       "      <td>-0.041634</td>\n",
       "      <td>-0.211271</td>\n",
       "      <td>-0.247980</td>\n",
       "      <td>-0.424921</td>\n",
       "      <td>-0.277048</td>\n",
       "      <td>-0.636037</td>\n",
       "      <td>-0.261121</td>\n",
       "      <td>-0.880234</td>\n",
       "      <td>-1.004642</td>\n",
       "      <td>-1.677192</td>\n",
       "    </tr>\n",
       "  </tbody>\n",
       "</table>\n",
       "</div>"
      ],
      "text/plain": [
       "   bytes_bothdir  bytes_onedir  total_packets  duration       pps  bps_onedir  \\\n",
       "0       -0.03916     -0.026629      -0.041634 -0.211271  0.657007   -0.424921   \n",
       "1       -0.03916     -0.026629      -0.041634 -0.211271 -0.275575   -0.424921   \n",
       "2       -0.03916     -0.026629      -0.041634 -0.211271 -0.264796   -0.424921   \n",
       "3       -0.03916     -0.026629      -0.041634 -0.211271 -0.269122   -0.424921   \n",
       "4       -0.03916     -0.026629      -0.041634 -0.211271 -0.247980   -0.424921   \n",
       "\n",
       "   bpp_onedir  bps_bothdir  bpp_bothdir  cnt_timed_src  cnt_timed_dst  \\\n",
       "0    0.381812    -0.636037     1.063197      -0.880234      -1.004642   \n",
       "1   -0.297139    -0.636037    -0.301503      -0.880234      -1.004642   \n",
       "2   -0.289291    -0.636037    -0.285729      -0.880234      -1.004642   \n",
       "3   -0.292441    -0.636037    -0.292060      -0.880234      -1.004642   \n",
       "4   -0.277048    -0.636037    -0.261121      -0.880234      -1.004642   \n",
       "\n",
       "   cnt_timed_srcdst  \n",
       "0         -1.677192  \n",
       "1         -1.677192  \n",
       "2         -1.677192  \n",
       "3         -1.677192  \n",
       "4         -1.677192  "
      ]
     },
     "execution_count": 24,
     "metadata": {},
     "output_type": "execute_result"
    }
   ],
   "source": [
    "X_train.head()"
   ]
  },
  {
   "cell_type": "code",
   "execution_count": 35,
   "metadata": {},
   "outputs": [
    {
     "name": "stdout",
     "output_type": "stream",
     "text": [
      "Generating features... \n",
      "val DONE\n",
      "train len:  70584\n",
      "DONE\n",
      "Wall time: 29 s\n"
     ]
    }
   ],
   "source": [
    "%%time\n",
    "print('Generating features... ')\n",
    "df_train_f3 = get_feature3('val', X_train_ori) \n",
    "print('train len: ', len(df_train_f3))\n",
    "Y = X_train_ori['label']\n",
    "print('DONE')"
   ]
  },
  {
   "cell_type": "code",
   "execution_count": 50,
   "metadata": {},
   "outputs": [
    {
     "name": "stdout",
     "output_type": "stream",
     "text": [
      "DONE\n"
     ]
    }
   ],
   "source": [
    "feature3 = ['bytes_bothdir', 'bytes_onedir', 'total_packets', 'duration', \n",
    "             'pps', 'bps_onedir', 'bpp_onedir', 'bps_bothdir', 'bpp_bothdir', \n",
    "             'cnt_timed_src', 'cnt_timed_dst', 'cnt_timed_srcdst']\n",
    "\n",
    "selected_features = feature3\n",
    "columns_to_scale = feature3\n",
    "\n",
    "df_train_f3[columns_to_scale] = apply_scaler(df_train_f3)\n",
    "X_train = df_train_f3[selected_features]\n",
    "#X = get_pc(X_train, 3)\n",
    "X = X_train\n",
    "Y = df_train_f3['label']\n",
    "\n",
    "print('DONE')"
   ]
  },
  {
   "cell_type": "code",
   "execution_count": 51,
   "metadata": {},
   "outputs": [
    {
     "data": {
      "text/plain": [
       "0        1\n",
       "1        1\n",
       "2        1\n",
       "3        1\n",
       "4        1\n",
       "        ..\n",
       "70579    1\n",
       "70580    1\n",
       "70581    1\n",
       "70582    1\n",
       "70583    1\n",
       "Name: label, Length: 70584, dtype: int32"
      ]
     },
     "execution_count": 51,
     "metadata": {},
     "output_type": "execute_result"
    }
   ],
   "source": [
    "Y"
   ]
  },
  {
   "cell_type": "code",
   "execution_count": 58,
   "metadata": {},
   "outputs": [],
   "source": [
    "class logistic_regression(object):\n",
    "    def fit(self, X, Y, learning_rate=0.0000003, epoch=1000):\n",
    "        X = np.array(X, dtype=\"float32\")\n",
    "        Y = np.array(Y, dtype=\"float32\")\n",
    "\n",
    "        N, D = X.shape\n",
    "        Y = Y.reshape(N, 1)\n",
    "\n",
    "        dlt = np.zeros([N, 1], dtype=\"float32\")\n",
    "        dW = np.zeros([1, D], dtype=\"float32\")\n",
    "        db = 0\n",
    "        self.weight = np.zeros([D, 1], dtype=\"float32\")\n",
    "        self.beta = 0\n",
    "\n",
    "        c = []\n",
    "\n",
    "        for n in range(epoch):\n",
    "            dlt = self.predict(X).T - Y\n",
    "            dW = np.matmul(dlt.T, X).T\n",
    "            db = dlt.sum() / N\n",
    "\n",
    "            self.weight -= learning_rate * dW\n",
    "            self.beta -= learning_rate * db\n",
    "            '''\n",
    "            if n % 200 == 0:\n",
    "                c_new = cost(self.predict(X).T, Y)\n",
    "                c.append(c_new)\n",
    "                err = error_rate(self.predict_class(X).T, Y)\n",
    "                print(\"epoch:\", n, \"cost:\", c_new, \"error rate:\", err)\n",
    "            '''\n",
    "    def predict(self, X):\n",
    "        z = np.matmul(self.weight.T, X.T) + self.beta\n",
    "        return 1 / (1 + np.exp(-z))\n",
    "\n",
    "    def predict_class(self, X):\n",
    "        predictclass = self.predict(X)\n",
    "        return (predictclass >= 0.5) * 1\n",
    "                \n",
    "    def predict(self, X):\n",
    "        z = np.matmul(self.weight.T, X.T) + self.beta\n",
    "        return 1 / (1 + np.exp(-z))\n",
    "\n",
    "    def predict_class(self, X):\n",
    "        predictclass = self.predict(X)\n",
    "        return (predictclass >= 0.5) * 1\n",
    "                \n",
    "def error_rate(P, Y):\n",
    "    return np.mean(Y != P)\n",
    "\n",
    "def adversial_samples(X, Y, model, epsilon=0.00001):\n",
    "    dlt = model.predict(X).T - Y.reshape(X.shape[0], 1)\n",
    "    direction = np.sign(np.matmul(dlt, model.weight.T))\n",
    "    return X + epsilon * direction, Y\n",
    "\n",
    "def cost(Y_hat, Y):\n",
    "    Y_hat = Y_hat.flatten()\n",
    "    Y = Y.flatten()\n",
    "    cost1 = 0\n",
    "    elp = 0.0000000000000000000000000000000000000000000001\n",
    "    for i in range(len(Y)):\n",
    "        cost1 -= Y[i] * np.log(Y_hat[i] + elp) + (1 - Y[i]) * np.log(1 - Y_hat[i] + elp)\n",
    "    return cost1\n",
    "\n",
    "\n",
    "model = logistic_regression()\n",
    "#model = LogisticRegression()\n",
    "#model.fit(X, Y)\n",
    "X = np.array(X)\n",
    "Y = np.array(Y)"
   ]
  },
  {
   "cell_type": "code",
   "execution_count": 59,
   "metadata": {},
   "outputs": [
    {
     "data": {
      "text/plain": [
       "array([[-0.03916046, -0.02662853, -0.04163367, ..., -0.88023427,\n",
       "        -1.00464185, -1.67719155],\n",
       "       [-0.03916046, -0.02662853, -0.04163367, ..., -0.88023427,\n",
       "        -1.00464185, -1.67719155],\n",
       "       [-0.03916046, -0.02662853, -0.04163367, ..., -0.88023427,\n",
       "        -1.00464185, -1.67719155],\n",
       "       ...,\n",
       "       [-0.03500942, -0.02413222, -0.02837064, ..., -0.93701282,\n",
       "        -1.00364406, -1.67719155],\n",
       "       [-0.03483064, -0.01978513, -0.02173912, ..., -0.93701282,\n",
       "        -1.00364406, -1.67719155],\n",
       "       [-0.02660855, -0.00600252,  0.00611324, ..., -0.93701282,\n",
       "        -1.00464185, -1.67719155]])"
      ]
     },
     "execution_count": 59,
     "metadata": {},
     "output_type": "execute_result"
    }
   ],
   "source": [
    "np.array(X)"
   ]
  },
  {
   "cell_type": "code",
   "execution_count": 60,
   "metadata": {},
   "outputs": [],
   "source": [
    "def show_adversarials(epoch_num, X, Y):\n",
    "    print('Epoch: ', epoch_num)\n",
    "    model.fit(X, Y, learning_rate=0.0005,  epoch=epoch_num) #20000\n",
    "    print('Error Rate without adversarial examples:', error_rate(model.predict_class(X).T, Y.reshape(X.shape[0], 1)))\n",
    "    print()\n",
    "    \n",
    "    Xadv, Y = adversial_samples(X, Y, model, epsilon=0.2)\n",
    "    print('Error Rate with adversarial examples, epsilon = 0.2:', error_rate(model.predict(Xadv).T, Y.reshape(Xadv.shape[0], 1)))\n",
    "    Xadv2, Y = adversial_samples(X, Y, model, epsilon=0.5)\n",
    "    print('Error Rate with adversarial examples, epsilon = 0.5:', error_rate(model.predict(Xadv2).T, Y.reshape(Xadv2.shape[0], 1)))\n",
    "\n",
    "    plt.scatter(X[:9999, 0], X[:9999, 1], color='blue', alpha=0.4, label='Original Data')\n",
    "    plt.scatter(Xadv[:9999, 0], Xadv[:9999, 1], color='green', alpha=0.4, label='Adversarial Examples, Epsilon = 0.2')\n",
    "    plt.scatter(Xadv2[:9999, 0], Xadv2[:9999, 1], color='purple', alpha=0.4, label='Adversarial Examples, Epsilon = 0.5')\n",
    "    plt.scatter(X[10000:, 0], X[10000:, 1], color='red', alpha=0.4, label='Original Data')\n",
    "    plt.scatter(Xadv[10000:, 0], Xadv[10000:, 1], color='orange', alpha=0.4, label='Adversarial Examples, Epsilon = 0.2')\n",
    "    plt.scatter(Xadv2[10000:, 0], Xadv2[10000:, 1], color='yellow', alpha=0.4, label='Adversarial Examples, Epsilon = 0.5')\n",
    "    plt.legend(loc='best')\n",
    "    plt.show()\n",
    "    return Xadv, Xadv2"
   ]
  },
  {
   "cell_type": "code",
   "execution_count": 61,
   "metadata": {},
   "outputs": [
    {
     "name": "stdout",
     "output_type": "stream",
     "text": [
      "Epoch:  1\n",
      "Error Rate without adversarial examples: 0.43446106766405984\n",
      "\n",
      "Error Rate with adversarial examples, epsilon = 0.2: 0.9842598889266689\n",
      "Error Rate with adversarial examples, epsilon = 0.5: 0.9842598889266689\n"
     ]
    },
    {
     "data": {
      "image/png": "[encoded data removed]",
      "text/plain": [
       "<Figure size 432x288 with 1 Axes>"
      ]
     },
     "metadata": {
      "needs_background": "light"
     },
     "output_type": "display_data"
    }
   ],
   "source": [
    "Xadv, Xadv2 = show_adversarials(1, X, Y)"
   ]
  },
  {
   "cell_type": "code",
   "execution_count": 62,
   "metadata": {},
   "outputs": [
    {
     "data": {
      "text/plain": [
       "array([[-0.23916046, -0.22662853, -0.24163367, ..., -1.08023427,\n",
       "        -1.20464185, -1.47719155],\n",
       "       [-0.23916046, -0.22662853, -0.24163367, ..., -1.08023427,\n",
       "        -1.20464185, -1.47719155],\n",
       "       [-0.23916046, -0.22662853, -0.24163367, ..., -1.08023427,\n",
       "        -1.20464185, -1.47719155],\n",
       "       ...,\n",
       "       [-0.23500942, -0.22413222, -0.22837064, ..., -1.13701282,\n",
       "        -1.20364406, -1.47719155],\n",
       "       [-0.23483064, -0.21978513, -0.22173912, ..., -1.13701282,\n",
       "        -1.20364406, -1.47719155],\n",
       "       [-0.22660855, -0.20600252, -0.19388676, ..., -1.13701282,\n",
       "        -1.20464185, -1.47719155]])"
      ]
     },
     "execution_count": 62,
     "metadata": {},
     "output_type": "execute_result"
    }
   ],
   "source": [
    "Xadv"
   ]
  },
  {
   "cell_type": "code",
   "execution_count": 66,
   "metadata": {},
   "outputs": [],
   "source": [
    "adv_df = pd.DataFrame(data=Xadv, columns=selected_features)"
   ]
  },
  {
   "cell_type": "code",
   "execution_count": 107,
   "metadata": {},
   "outputs": [
    {
     "data": {
      "text/html": [
       "<div>\n",
       "<style scoped>\n",
       "    .dataframe tbody tr th:only-of-type {\n",
       "        vertical-align: middle;\n",
       "    }\n",
       "\n",
       "    .dataframe tbody tr th {\n",
       "        vertical-align: top;\n",
       "    }\n",
       "\n",
       "    .dataframe thead th {\n",
       "        text-align: right;\n",
       "    }\n",
       "</style>\n",
       "<table border=\"1\" class=\"dataframe\">\n",
       "  <thead>\n",
       "    <tr style=\"text-align: right;\">\n",
       "      <th></th>\n",
       "      <th>bytes_bothdir</th>\n",
       "      <th>bytes_onedir</th>\n",
       "      <th>total_packets</th>\n",
       "      <th>duration</th>\n",
       "      <th>pps</th>\n",
       "      <th>bps_onedir</th>\n",
       "      <th>bpp_onedir</th>\n",
       "      <th>bps_bothdir</th>\n",
       "      <th>bpp_bothdir</th>\n",
       "      <th>cnt_timed_src</th>\n",
       "      <th>cnt_timed_dst</th>\n",
       "      <th>cnt_timed_srcdst</th>\n",
       "    </tr>\n",
       "  </thead>\n",
       "  <tbody>\n",
       "    <tr>\n",
       "      <th>0</th>\n",
       "      <td>-0.239160</td>\n",
       "      <td>-0.226629</td>\n",
       "      <td>-0.241634</td>\n",
       "      <td>-0.411271</td>\n",
       "      <td>0.857007</td>\n",
       "      <td>-0.624921</td>\n",
       "      <td>0.581812</td>\n",
       "      <td>-0.836037</td>\n",
       "      <td>1.263197</td>\n",
       "      <td>-1.080234</td>\n",
       "      <td>-1.204642</td>\n",
       "      <td>-1.477192</td>\n",
       "    </tr>\n",
       "    <tr>\n",
       "      <th>1</th>\n",
       "      <td>-0.239160</td>\n",
       "      <td>-0.226629</td>\n",
       "      <td>-0.241634</td>\n",
       "      <td>-0.411271</td>\n",
       "      <td>-0.075575</td>\n",
       "      <td>-0.624921</td>\n",
       "      <td>-0.097139</td>\n",
       "      <td>-0.836037</td>\n",
       "      <td>-0.101503</td>\n",
       "      <td>-1.080234</td>\n",
       "      <td>-1.204642</td>\n",
       "      <td>-1.477192</td>\n",
       "    </tr>\n",
       "    <tr>\n",
       "      <th>2</th>\n",
       "      <td>-0.239160</td>\n",
       "      <td>-0.226629</td>\n",
       "      <td>-0.241634</td>\n",
       "      <td>-0.411271</td>\n",
       "      <td>-0.064796</td>\n",
       "      <td>-0.624921</td>\n",
       "      <td>-0.089291</td>\n",
       "      <td>-0.836037</td>\n",
       "      <td>-0.085729</td>\n",
       "      <td>-1.080234</td>\n",
       "      <td>-1.204642</td>\n",
       "      <td>-1.477192</td>\n",
       "    </tr>\n",
       "    <tr>\n",
       "      <th>3</th>\n",
       "      <td>-0.239160</td>\n",
       "      <td>-0.226629</td>\n",
       "      <td>-0.241634</td>\n",
       "      <td>-0.411271</td>\n",
       "      <td>-0.069122</td>\n",
       "      <td>-0.624921</td>\n",
       "      <td>-0.092441</td>\n",
       "      <td>-0.836037</td>\n",
       "      <td>-0.092060</td>\n",
       "      <td>-1.080234</td>\n",
       "      <td>-1.204642</td>\n",
       "      <td>-1.477192</td>\n",
       "    </tr>\n",
       "    <tr>\n",
       "      <th>4</th>\n",
       "      <td>-0.239160</td>\n",
       "      <td>-0.226629</td>\n",
       "      <td>-0.241634</td>\n",
       "      <td>-0.411271</td>\n",
       "      <td>-0.047980</td>\n",
       "      <td>-0.624921</td>\n",
       "      <td>-0.077048</td>\n",
       "      <td>-0.836037</td>\n",
       "      <td>-0.061121</td>\n",
       "      <td>-1.080234</td>\n",
       "      <td>-1.204642</td>\n",
       "      <td>-1.477192</td>\n",
       "    </tr>\n",
       "    <tr>\n",
       "      <th>...</th>\n",
       "      <td>...</td>\n",
       "      <td>...</td>\n",
       "      <td>...</td>\n",
       "      <td>...</td>\n",
       "      <td>...</td>\n",
       "      <td>...</td>\n",
       "      <td>...</td>\n",
       "      <td>...</td>\n",
       "      <td>...</td>\n",
       "      <td>...</td>\n",
       "      <td>...</td>\n",
       "      <td>...</td>\n",
       "    </tr>\n",
       "    <tr>\n",
       "      <th>70579</th>\n",
       "      <td>-0.182166</td>\n",
       "      <td>-0.065463</td>\n",
       "      <td>-0.148792</td>\n",
       "      <td>-0.410621</td>\n",
       "      <td>-0.093707</td>\n",
       "      <td>5.178864</td>\n",
       "      <td>-0.105856</td>\n",
       "      <td>1.639140</td>\n",
       "      <td>-0.123185</td>\n",
       "      <td>-1.137013</td>\n",
       "      <td>-1.204642</td>\n",
       "      <td>-1.477192</td>\n",
       "    </tr>\n",
       "    <tr>\n",
       "      <th>70580</th>\n",
       "      <td>-0.182166</td>\n",
       "      <td>-0.065463</td>\n",
       "      <td>-0.148792</td>\n",
       "      <td>-0.410637</td>\n",
       "      <td>-0.093696</td>\n",
       "      <td>5.178864</td>\n",
       "      <td>-0.105733</td>\n",
       "      <td>1.639140</td>\n",
       "      <td>-0.123045</td>\n",
       "      <td>-1.137013</td>\n",
       "      <td>-1.204642</td>\n",
       "      <td>-1.477192</td>\n",
       "    </tr>\n",
       "    <tr>\n",
       "      <th>70581</th>\n",
       "      <td>-0.235009</td>\n",
       "      <td>-0.224132</td>\n",
       "      <td>-0.228371</td>\n",
       "      <td>-0.375802</td>\n",
       "      <td>-0.094151</td>\n",
       "      <td>-0.397497</td>\n",
       "      <td>-0.110662</td>\n",
       "      <td>0.109711</td>\n",
       "      <td>-0.128681</td>\n",
       "      <td>-1.137013</td>\n",
       "      <td>-1.203644</td>\n",
       "      <td>-1.477192</td>\n",
       "    </tr>\n",
       "    <tr>\n",
       "      <th>70582</th>\n",
       "      <td>-0.234831</td>\n",
       "      <td>-0.219785</td>\n",
       "      <td>-0.221739</td>\n",
       "      <td>-0.409902</td>\n",
       "      <td>-0.094103</td>\n",
       "      <td>0.121771</td>\n",
       "      <td>-0.110563</td>\n",
       "      <td>-0.229110</td>\n",
       "      <td>-0.128482</td>\n",
       "      <td>-1.137013</td>\n",
       "      <td>-1.203644</td>\n",
       "      <td>-1.477192</td>\n",
       "    </tr>\n",
       "    <tr>\n",
       "      <th>70583</th>\n",
       "      <td>-0.226609</td>\n",
       "      <td>-0.206003</td>\n",
       "      <td>-0.193887</td>\n",
       "      <td>-0.410843</td>\n",
       "      <td>-0.093796</td>\n",
       "      <td>0.483656</td>\n",
       "      <td>-0.109718</td>\n",
       "      <td>0.016602</td>\n",
       "      <td>-0.126828</td>\n",
       "      <td>-1.137013</td>\n",
       "      <td>-1.204642</td>\n",
       "      <td>-1.477192</td>\n",
       "    </tr>\n",
       "  </tbody>\n",
       "</table>\n",
       "<p>70584 rows × 12 columns</p>\n",
       "</div>"
      ],
      "text/plain": [
       "       bytes_bothdir  bytes_onedir  total_packets  duration       pps  \\\n",
       "0          -0.239160     -0.226629      -0.241634 -0.411271  0.857007   \n",
       "1          -0.239160     -0.226629      -0.241634 -0.411271 -0.075575   \n",
       "2          -0.239160     -0.226629      -0.241634 -0.411271 -0.064796   \n",
       "3          -0.239160     -0.226629      -0.241634 -0.411271 -0.069122   \n",
       "4          -0.239160     -0.226629      -0.241634 -0.411271 -0.047980   \n",
       "...              ...           ...            ...       ...       ...   \n",
       "70579      -0.182166     -0.065463      -0.148792 -0.410621 -0.093707   \n",
       "70580      -0.182166     -0.065463      -0.148792 -0.410637 -0.093696   \n",
       "70581      -0.235009     -0.224132      -0.228371 -0.375802 -0.094151   \n",
       "70582      -0.234831     -0.219785      -0.221739 -0.409902 -0.094103   \n",
       "70583      -0.226609     -0.206003      -0.193887 -0.410843 -0.093796   \n",
       "\n",
       "       bps_onedir  bpp_onedir  bps_bothdir  bpp_bothdir  cnt_timed_src  \\\n",
       "0       -0.624921    0.581812    -0.836037     1.263197      -1.080234   \n",
       "1       -0.624921   -0.097139    -0.836037    -0.101503      -1.080234   \n",
       "2       -0.624921   -0.089291    -0.836037    -0.085729      -1.080234   \n",
       "3       -0.624921   -0.092441    -0.836037    -0.092060      -1.080234   \n",
       "4       -0.624921   -0.077048    -0.836037    -0.061121      -1.080234   \n",
       "...           ...         ...          ...          ...            ...   \n",
       "70579    5.178864   -0.105856     1.639140    -0.123185      -1.137013   \n",
       "70580    5.178864   -0.105733     1.639140    -0.123045      -1.137013   \n",
       "70581   -0.397497   -0.110662     0.109711    -0.128681      -1.137013   \n",
       "70582    0.121771   -0.110563    -0.229110    -0.128482      -1.137013   \n",
       "70583    0.483656   -0.109718     0.016602    -0.126828      -1.137013   \n",
       "\n",
       "       cnt_timed_dst  cnt_timed_srcdst  \n",
       "0          -1.204642         -1.477192  \n",
       "1          -1.204642         -1.477192  \n",
       "2          -1.204642         -1.477192  \n",
       "3          -1.204642         -1.477192  \n",
       "4          -1.204642         -1.477192  \n",
       "...              ...               ...  \n",
       "70579      -1.204642         -1.477192  \n",
       "70580      -1.204642         -1.477192  \n",
       "70581      -1.203644         -1.477192  \n",
       "70582      -1.203644         -1.477192  \n",
       "70583      -1.204642         -1.477192  \n",
       "\n",
       "[70584 rows x 12 columns]"
      ]
     },
     "execution_count": 107,
     "metadata": {},
     "output_type": "execute_result"
    }
   ],
   "source": [
    "adv_df"
   ]
  },
  {
   "cell_type": "code",
   "execution_count": 70,
   "metadata": {},
   "outputs": [],
   "source": [
    "X_train_original = df_train_f3\n",
    "X_train_mod = df_train_f3.copy()\n",
    "X_train_mod[selected_features] = adv_df"
   ]
  },
  {
   "cell_type": "code",
   "execution_count": 76,
   "metadata": {},
   "outputs": [
    {
     "data": {
      "text/plain": [
       "147.32.84.138     14775\n",
       "147.32.84.59      13401\n",
       "147.32.84.229      3480\n",
       "147.32.85.25       1973\n",
       "147.32.86.20       1307\n",
       "147.32.85.34       1214\n",
       "147.32.84.170       779\n",
       "147.32.84.94        774\n",
       "147.147.98.151      602\n",
       "147.124.93.156      599\n",
       "Name: src_ip, dtype: int64"
      ]
     },
     "execution_count": 76,
     "metadata": {},
     "output_type": "execute_result"
    }
   ],
   "source": [
    "X_train_original.src_ip.value_counts()[:10]"
   ]
  },
  {
   "cell_type": "code",
   "execution_count": 88,
   "metadata": {},
   "outputs": [],
   "source": [
    "train_anomaly = X_train_original[X_train_original['label']==-1]"
   ]
  },
  {
   "cell_type": "code",
   "execution_count": 93,
   "metadata": {},
   "outputs": [
    {
     "data": {
      "text/plain": [
       "147.147.98.151     602\n",
       "147.124.93.156     599\n",
       "147.37.96.153      582\n",
       "147.236.100.149    581\n",
       "147.32.84.192      581\n",
       "147.231.96.180     579\n",
       "147.175.101.148    570\n",
       "147.177.96.192     560\n",
       "147.74.98.178      555\n",
       "147.94.93.195      552\n",
       "Name: src_ip, dtype: int64"
      ]
     },
     "execution_count": 93,
     "metadata": {},
     "output_type": "execute_result"
    }
   ],
   "source": [
    "train_anomaly.src_ip.value_counts()[:10]"
   ]
  },
  {
   "cell_type": "code",
   "execution_count": 94,
   "metadata": {},
   "outputs": [],
   "source": [
    "bot_df = X_train_original[X_train_original['src_ip']=='147.147.98.151'] "
   ]
  },
  {
   "cell_type": "code",
   "execution_count": 102,
   "metadata": {},
   "outputs": [
    {
     "data": {
      "text/plain": [
       "14775"
      ]
     },
     "execution_count": 102,
     "metadata": {},
     "output_type": "execute_result"
    }
   ],
   "source": [
    "bot_df = X_train_original[X_train_original['src_ip']=='147.32.84.138']\n",
    "len(bot_df)"
   ]
  },
  {
   "cell_type": "code",
   "execution_count": 87,
   "metadata": {},
   "outputs": [
    {
     "data": {
      "text/plain": [
       "98908"
      ]
     },
     "execution_count": 87,
     "metadata": {},
     "output_type": "execute_result"
    }
   ],
   "source": [
    "anomaly = df_train_original['label']==-1"
   ]
  },
  {
   "cell_type": "code",
   "execution_count": 100,
   "metadata": {},
   "outputs": [],
   "source": [
    "train_bot_df = bot_df[selected_features]"
   ]
  },
  {
   "cell_type": "code",
   "execution_count": 106,
   "metadata": {},
   "outputs": [
    {
     "data": {
      "text/html": [
       "<div>\n",
       "<style scoped>\n",
       "    .dataframe tbody tr th:only-of-type {\n",
       "        vertical-align: middle;\n",
       "    }\n",
       "\n",
       "    .dataframe tbody tr th {\n",
       "        vertical-align: top;\n",
       "    }\n",
       "\n",
       "    .dataframe thead th {\n",
       "        text-align: right;\n",
       "    }\n",
       "</style>\n",
       "<table border=\"1\" class=\"dataframe\">\n",
       "  <thead>\n",
       "    <tr style=\"text-align: right;\">\n",
       "      <th></th>\n",
       "      <th>bytes_bothdir</th>\n",
       "      <th>bytes_onedir</th>\n",
       "      <th>total_packets</th>\n",
       "      <th>duration</th>\n",
       "      <th>pps</th>\n",
       "      <th>bps_onedir</th>\n",
       "      <th>bpp_onedir</th>\n",
       "      <th>bps_bothdir</th>\n",
       "      <th>bpp_bothdir</th>\n",
       "      <th>cnt_timed_src</th>\n",
       "      <th>cnt_timed_dst</th>\n",
       "      <th>cnt_timed_srcdst</th>\n",
       "    </tr>\n",
       "  </thead>\n",
       "  <tbody>\n",
       "    <tr>\n",
       "      <th>15428</th>\n",
       "      <td>-0.037733</td>\n",
       "      <td>-0.023699</td>\n",
       "      <td>-0.031023</td>\n",
       "      <td>-0.122413</td>\n",
       "      <td>-0.294152</td>\n",
       "      <td>0.052320</td>\n",
       "      <td>-0.310663</td>\n",
       "      <td>-0.397636</td>\n",
       "      <td>-0.328687</td>\n",
       "      <td>-0.277976</td>\n",
       "      <td>-1.004642</td>\n",
       "      <td>-0.386971</td>\n",
       "    </tr>\n",
       "    <tr>\n",
       "      <th>15429</th>\n",
       "      <td>-0.038419</td>\n",
       "      <td>-0.025559</td>\n",
       "      <td>-0.033676</td>\n",
       "      <td>-0.211261</td>\n",
       "      <td>-0.290957</td>\n",
       "      <td>-0.368939</td>\n",
       "      <td>-0.308027</td>\n",
       "      <td>-0.557725</td>\n",
       "      <td>-0.322911</td>\n",
       "      <td>-0.277976</td>\n",
       "      <td>-0.922823</td>\n",
       "      <td>-0.386971</td>\n",
       "    </tr>\n",
       "    <tr>\n",
       "      <th>15430</th>\n",
       "      <td>0.725562</td>\n",
       "      <td>0.038679</td>\n",
       "      <td>0.609581</td>\n",
       "      <td>-0.211178</td>\n",
       "      <td>-0.272881</td>\n",
       "      <td>-0.475452</td>\n",
       "      <td>-0.297041</td>\n",
       "      <td>4.516604</td>\n",
       "      <td>0.184591</td>\n",
       "      <td>-0.277976</td>\n",
       "      <td>-0.922823</td>\n",
       "      <td>-0.386971</td>\n",
       "    </tr>\n",
       "    <tr>\n",
       "      <th>15431</th>\n",
       "      <td>0.174108</td>\n",
       "      <td>-0.007072</td>\n",
       "      <td>0.150680</td>\n",
       "      <td>-0.211251</td>\n",
       "      <td>-0.265529</td>\n",
       "      <td>-0.469858</td>\n",
       "      <td>-0.292055</td>\n",
       "      <td>4.164975</td>\n",
       "      <td>0.317727</td>\n",
       "      <td>-0.277976</td>\n",
       "      <td>-0.922823</td>\n",
       "      <td>-0.386971</td>\n",
       "    </tr>\n",
       "    <tr>\n",
       "      <th>15432</th>\n",
       "      <td>-0.038444</td>\n",
       "      <td>-0.025559</td>\n",
       "      <td>-0.033676</td>\n",
       "      <td>-0.211259</td>\n",
       "      <td>-0.291577</td>\n",
       "      <td>-0.368939</td>\n",
       "      <td>-0.308538</td>\n",
       "      <td>-0.568814</td>\n",
       "      <td>-0.324157</td>\n",
       "      <td>-0.277976</td>\n",
       "      <td>-0.922823</td>\n",
       "      <td>-0.386971</td>\n",
       "    </tr>\n",
       "  </tbody>\n",
       "</table>\n",
       "</div>"
      ],
      "text/plain": [
       "       bytes_bothdir  bytes_onedir  total_packets  duration       pps  \\\n",
       "15428      -0.037733     -0.023699      -0.031023 -0.122413 -0.294152   \n",
       "15429      -0.038419     -0.025559      -0.033676 -0.211261 -0.290957   \n",
       "15430       0.725562      0.038679       0.609581 -0.211178 -0.272881   \n",
       "15431       0.174108     -0.007072       0.150680 -0.211251 -0.265529   \n",
       "15432      -0.038444     -0.025559      -0.033676 -0.211259 -0.291577   \n",
       "\n",
       "       bps_onedir  bpp_onedir  bps_bothdir  bpp_bothdir  cnt_timed_src  \\\n",
       "15428    0.052320   -0.310663    -0.397636    -0.328687      -0.277976   \n",
       "15429   -0.368939   -0.308027    -0.557725    -0.322911      -0.277976   \n",
       "15430   -0.475452   -0.297041     4.516604     0.184591      -0.277976   \n",
       "15431   -0.469858   -0.292055     4.164975     0.317727      -0.277976   \n",
       "15432   -0.368939   -0.308538    -0.568814    -0.324157      -0.277976   \n",
       "\n",
       "       cnt_timed_dst  cnt_timed_srcdst  \n",
       "15428      -1.004642         -0.386971  \n",
       "15429      -0.922823         -0.386971  \n",
       "15430      -0.922823         -0.386971  \n",
       "15431      -0.922823         -0.386971  \n",
       "15432      -0.922823         -0.386971  "
      ]
     },
     "execution_count": 106,
     "metadata": {},
     "output_type": "execute_result"
    }
   ],
   "source": [
    "train_bot_df.head()"
   ]
  },
  {
   "cell_type": "code",
   "execution_count": 104,
   "metadata": {},
   "outputs": [
    {
     "data": {
      "text/plain": [
       "array([[1, 1, 0, ..., 1, 1, 1]])"
      ]
     },
     "execution_count": 104,
     "metadata": {},
     "output_type": "execute_result"
    }
   ],
   "source": [
    "bot_pred = model.predict_class(np.array(train_bot_df))\n",
    "bot_pred"
   ]
  },
  {
   "cell_type": "code",
   "execution_count": 105,
   "metadata": {},
   "outputs": [
    {
     "name": "stdout",
     "output_type": "stream",
     "text": [
      "[[    0    37]\n",
      " [    1 14738]]\n"
     ]
    }
   ],
   "source": [
    "unique, counts = np.unique(bot_pred, return_counts=True)\n",
    "print (np.asarray((unique, counts)).T)"
   ]
  },
  {
   "cell_type": "code",
   "execution_count": 64,
   "metadata": {},
   "outputs": [
    {
     "name": "stdout",
     "output_type": "stream",
     "text": [
      "Epoch:  10\n",
      "Error Rate without adversarial examples: 0.4140315085571801\n",
      "\n",
      "Error Rate with adversarial examples, epsilon = 0.2: 0.5039810721976652\n",
      "Error Rate with adversarial examples, epsilon = 0.5: 0.5039810721976652\n"
     ]
    },
    {
     "name": "stderr",
     "output_type": "stream",
     "text": [
      "C:\\Users\\kebin\\Anaconda3\\lib\\site-packages\\ipykernel_launcher.py:41: RuntimeWarning: overflow encountered in exp\n"
     ]
    },
    {
     "data": {
      "image/png": "[encoded data removed]",
      "text/plain": [
       "<Figure size 432x288 with 1 Axes>"
      ]
     },
     "metadata": {
      "needs_background": "light"
     },
     "output_type": "display_data"
    },
    {
     "data": {
      "text/plain": [
       "(array([[-0.23916046, -0.22662853, -0.24163367, ..., -1.08023427,\n",
       "         -1.20464185, -1.47719155],\n",
       "        [-0.23916046, -0.22662853, -0.24163367, ..., -1.08023427,\n",
       "         -1.20464185, -1.47719155],\n",
       "        [-0.23916046, -0.22662853, -0.24163367, ..., -1.08023427,\n",
       "         -1.20464185, -1.47719155],\n",
       "        ...,\n",
       "        [-0.23500942, -0.22413222, -0.22837064, ..., -1.13701282,\n",
       "         -1.20364406, -1.47719155],\n",
       "        [-0.23483064, -0.21978513, -0.22173912, ..., -1.13701282,\n",
       "         -1.20364406, -1.47719155],\n",
       "        [-0.22660855, -0.20600252, -0.19388676, ..., -1.13701282,\n",
       "         -1.20464185, -1.47719155]]),\n",
       " array([[-0.53916046, -0.52662853, -0.54163367, ..., -1.38023427,\n",
       "         -1.50464185, -1.17719155],\n",
       "        [-0.53916046, -0.52662853, -0.54163367, ..., -1.38023427,\n",
       "         -1.50464185, -1.17719155],\n",
       "        [-0.53916046, -0.52662853, -0.54163367, ..., -1.38023427,\n",
       "         -1.50464185, -1.17719155],\n",
       "        ...,\n",
       "        [-0.53500942, -0.52413222, -0.52837064, ..., -1.43701282,\n",
       "         -1.50364406, -1.17719155],\n",
       "        [-0.53483064, -0.51978513, -0.52173912, ..., -1.43701282,\n",
       "         -1.50364406, -1.17719155],\n",
       "        [-0.52660855, -0.50600252, -0.49388676, ..., -1.43701282,\n",
       "         -1.50464185, -1.17719155]]))"
      ]
     },
     "execution_count": 64,
     "metadata": {},
     "output_type": "execute_result"
    }
   ],
   "source": [
    "show_adversarials(10, X, Y)"
   ]
  },
  {
   "cell_type": "code",
   "execution_count": null,
   "metadata": {},
   "outputs": [],
   "source": []
  }
 ],
 "metadata": {
  "kernelspec": {
   "display_name": "Python 3",
   "language": "python",
   "name": "python3"
  },
  "language_info": {
   "codemirror_mode": {
    "name": "ipython",
    "version": 3
   },
   "file_extension": ".py",
   "mimetype": "text/x-python",
   "name": "python",
   "nbconvert_exporter": "python",
   "pygments_lexer": "ipython3",
   "version": "3.7.1"
  }
 },
 "nbformat": 4,
 "nbformat_minor": 4
}
